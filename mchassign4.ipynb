{
 "metadata": {
  "name": "mch_assign4.ipynb",
  "signature": "sha256:0d26f721a4678e498092a9e84893eef4dec077b7021777eddefb195083fd739f"
 },
 "nbformat": 3,
 "nbformat_minor": 0,
 "worksheets": [
  {
   "cells": [
    {
     "cell_type": "markdown",
     "metadata": {},
     "source": [
      "##2012136042 \ubb38\ucca0\ud55c \uacfc\uc81c 4 \uc218\ud589\n",
      "####*linux \ud658\uacbd\uc5d0\uc11c \uc791\uc5c5\ud558\ub294\ub370 \ud55c\uae00 \ucc98\ub9ac\ud558\uae30 \uadc0\ucc2e\uc544\uc11c \uc601\uc5b4\ub85c \uc8fc\uc11d\uc744 \ub2ec\uc558\uc2b5\ub2c8\ub2e4. \uc778\ucf54\ub529 \uc120\uc5b8 \ud574\ub450\uc5b4\ub3c4 \uc5d0\ub514\ud130\uc5d0\uc11c \uc5ec\ub2c8\uae4c \uae68\uc9c0\ub354\ub77c\uad6c\uc694.*\n",
      "\n",
      "#####\ubb38\uc81c 1. \ud30c\uc77c \uc2dc\uc2a4\ud15c \ub2e4\ub8e8\uae30 \ubc0f \uc815\ub82c \uc5f0\uc2b5"
     ]
    },
    {
     "cell_type": "code",
     "collapsed": false,
     "input": [
      "import sys\n",
      "def initf(f):\n",
      "    #Function to initiate file\n",
      "    f = open('s.txt', 'w')\n",
      "    stdout = sys.stdout\n",
      "    sys.stdout = f\n",
      "\n",
      "    print '''pig ham\n",
      "cat dog\n",
      "ham bird\n",
      "dog pig'''\n",
      "    sys.stdout = stdout\n",
      "    return\n",
      "\n",
      "def printf(f, filename, contents):\n",
      "    f = open(filename, 'w')\n",
      "\n",
      "    stdout = sys.stdout\n",
      "    sys.stdout = f\n",
      "\n",
      "    for things in contents:\n",
      "        print things,\n",
      "    \n",
      "    sys.stdout = stdout\n",
      "    return\n",
      "\n",
      "def printList(List):\n",
      "    for things in List:\n",
      "        print things,\n",
      "\n",
      "f = open('s.txt','r+')\n",
      "initf(f)\n",
      "\n",
      "\n",
      "frs = f.readlines()\n",
      "print \"\\nbefore sorting\\n\"\n",
      "printList(frs)\n",
      "#printing default state\n",
      "\n",
      "frs.sort(key = lambda x : x[0])\n",
      "printf(f, 's1.txt', frs)\n",
      "print \"\\nafter sorting by 1st key\\n\"\n",
      "printList(frs)\n",
      "#printing after first sort\n",
      "\n",
      "frs.sort(key = lambda x : x[4])\n",
      "printf(f, 's2.txt', frs)\n",
      "print \"\\nafter sorting by 2nd key\\n\"\n",
      "printList(frs)\n",
      "#printing after second sort\n",
      "\n",
      "initf(f)\n",
      "f.seek(0) #file pointer seek to start point\n",
      "frs = f.readlines() #newly reading lines from s.txt\n",
      "\n",
      "frss = \"\".join(\" \".join(frs).split('\\n')) #making String withut '\\n'\n",
      "\n",
      "text = [x for x in frss]\n",
      "cnt = 0\n",
      "Max = 2\n",
      "#loop for changing escaping sequence, I used list instead of str type.\n",
      "    #because str type can't be changed normally.\n",
      "for i in range(len(frss)):    \n",
      "    if(text[i] == ' ' and cnt < Max):\n",
      "        cnt += 1\n",
      "    elif(text[i] == ' ' and cnt == Max):\n",
      "        cnt = 0\n",
      "        text[i] = '\\n'\n",
      "    else:\n",
      "        pass\n",
      "\n",
      "#for using simple printing format, changing stdout\n",
      "stdout = sys.stdout\n",
      "sys.stdout = open('s3.txt', 'w+')\n",
      "Str = \"\".join(text)\n",
      "print \"\\nafter re-assmbling words\\n\"\n",
      "print Str\n",
      "#print to that file (s3.txt, you know)\n",
      "sys.stdout = stdout\n",
      "#reset stdout\n",
      "\n",
      "printList(open('s3.txt','r').readlines())\n",
      "#final file reading for check"
     ],
     "language": "python",
     "metadata": {},
     "outputs": [
      {
       "output_type": "stream",
       "stream": "stdout",
       "text": [
        "\n",
        "before sorting\n",
        "\n",
        "pig ham\n",
        "cat dog\n",
        "ham bird\n",
        "dog pig\n",
        "\n",
        "after sorting by 1st key\n",
        "\n",
        "cat dog\n",
        "dog pig\n",
        "ham bird\n",
        "pig ham\n",
        "\n",
        "after sorting by 2nd key\n",
        "\n",
        "ham bird\n",
        "cat dog\n",
        "pig ham\n",
        "dog pig\n",
        "\n",
        "after re-assmbling words\n",
        "\n",
        "pig ham cat\n",
        "dog ham bird\n",
        "dog pig\n"
       ]
      }
     ],
     "prompt_number": 12
    },
    {
     "cell_type": "markdown",
     "metadata": {},
     "source": [
      "---\n",
      "\n",
      "\uba3c\uc800 \uc81c\uc77c \ucc98\uc74c\uc5d0 \uc815\ub82c \uc804\uc5d0 \ucd08\uae30 \uc0c1\ud0dc\ub97c \ucd9c\ub825\ud588\uace0,<br>\n",
      "\uc774\ub7f0 \ucd08\uae30\ud654\ub97c \uc704\ud55c \ud568\uc218\ub85c initf\ub97c \ub9cc\ub4e4\uc5b4 \ub450\uc5c8\uc2b5\ub2c8\ub2e4.<br>\n",
      "\uadf8\ub9ac\uace0 \uc815\ub82c\ud55c \uacb0\uacfc\ub97c \ucd9c\ub825\ud558\uae30 \ud3b8\ud558\ub3c4\ub85d printf\ub77c\ub294 \ud568\uc218\ub97c \ud30c\uc77c \uc548\uc5d0 \uc815\ud574\uc9c4 \ub0b4\uc6a9\uc744 \ucd9c\ub825\ud558\ub294 \ud615\ud0dc\ub85c \ub9cc\ub4e4\uc5b4 \ub450\uc5c8\uc2b5\ub2c8\ub2e4.<br>\n",
      "\uc704\uc758 \ub450 \ubb38\uc81c\ub294 \uac04\ub2e8\ud55c \uc815\ub82c \ubc29\uc2dd\uc744 \ud1b5\ud574 \uc815\ub82c\ud588\uace0, \uc544\ub798 \ubb38\uc81c\ub294 \ud558\ub098 \ud558\ub098 \ub530\uc838\uc11c \ub123\ub294 \ubc29\uc2dd\uc73c\ub85c \ub9cc\ub4e4\uc5c8\uc2b5\ub2c8\ub2e4.<br>\n",
      "\n",
      "---\n"
     ]
    },
    {
     "cell_type": "markdown",
     "metadata": {},
     "source": [
      "##### 2. \ud68c\uc6d0 \uac00\uc785 "
     ]
    },
    {
     "cell_type": "code",
     "collapsed": false,
     "input": [
      "pass\n",
      "#\uc8c4\uc1a1\ud569\ub2c8\ub2e4. \uc2dc\uac04 \ubd80\uc871\uc73c\ub85c \uc774\ud589\ud558\uc9c0 \ubabb\ud588\uc2b5\ub2c8\ub2e4."
     ],
     "language": "python",
     "metadata": {},
     "outputs": [],
     "prompt_number": 1
    },
    {
     "cell_type": "markdown",
     "metadata": {},
     "source": [
      "#####3. frange \ud568\uc218 "
     ]
    },
    {
     "cell_type": "code",
     "collapsed": false,
     "input": [
      "def frange(stop, start = 0, step = 0.1):\n",
      "    if stop < start:\n",
      "        stop, start = start, stop\n",
      "        #swap for frange(start, stop[, step]) form. This swap works because\n",
      "                            #when there are no negative parameters.\n",
      "    d = start\n",
      "    rslt = [d]\n",
      "    d += step #this seems like do-while loop. but I thought this is better.\n",
      "    while(d < stop): \n",
      "        rslt.append(d)\n",
      "        d += step\n",
      "    return rslt\n",
      "\n",
      "sample = frange(1.0,2.0,0.05)\n",
      "print \"for 1.0 to 2.0, step = 0.05\"\n",
      "for x in sample:\n",
      "    print \"{:.7f}\".format(x)\n",
      "#sample printing. using formatting (I got this from stack-overflow)\n",
      "\n",
      "print '---------------------------------------------'\n",
      "#sepearing line for readiblity\n",
      "\n",
      "sample =  frange(1,2)\n",
      "print \"for 1 to 2, step = default value\"\n",
      "for x in sample:\n",
      "    print \"{:.7f}\".format(x)\n",
      "#second sample\n",
      "\n",
      "print '---------------------------------------------'\n",
      "#sepearing line for readiblity (2)\n",
      "\n",
      "print \"for  to 2, start, step = default value\"\n",
      "sample = frange(2)\n",
      "for x in sample:\n",
      "    print \"{:.7f}\".format(x)\n",
      "#last sample\n",
      "\n"
     ],
     "language": "python",
     "metadata": {},
     "outputs": [
      {
       "output_type": "stream",
       "stream": "stdout",
       "text": [
        "for 1.0 to 2.0, step = 0.05\n",
        "1.0000000\n",
        "1.0500000\n",
        "1.1000000\n",
        "1.1500000\n",
        "1.2000000\n",
        "1.2500000\n",
        "1.3000000\n",
        "1.3500000\n",
        "1.4000000\n",
        "1.4500000\n",
        "1.5000000\n",
        "1.5500000\n",
        "1.6000000\n",
        "1.6500000\n",
        "1.7000000\n",
        "1.7500000\n",
        "1.8000000\n",
        "1.8500000\n",
        "1.9000000\n",
        "1.9500000\n",
        "---------------------------------------------\n",
        "for 1 to 2, step = default value\n",
        "1.0000000\n",
        "1.1000000\n",
        "1.2000000\n",
        "1.3000000\n",
        "1.4000000\n",
        "1.5000000\n",
        "1.6000000\n",
        "1.7000000\n",
        "1.8000000\n",
        "1.9000000\n",
        "---------------------------------------------\n",
        "for  to 2, start, step = default value\n",
        "0.0000000\n",
        "0.1000000\n",
        "0.2000000\n",
        "0.3000000\n",
        "0.4000000\n",
        "0.5000000\n",
        "0.6000000\n",
        "0.7000000\n",
        "0.8000000\n",
        "0.9000000\n",
        "1.0000000\n",
        "1.1000000\n",
        "1.2000000\n",
        "1.3000000\n",
        "1.4000000\n",
        "1.5000000\n",
        "1.6000000\n",
        "1.7000000\n",
        "1.8000000\n",
        "1.9000000\n"
       ]
      }
     ],
     "prompt_number": 18
    },
    {
     "cell_type": "markdown",
     "metadata": {},
     "source": [
      "\ucc98\uc74c\uc5d4 \uadf8 \uc218\ub97c \uc138\uc11c \ud560\uae4c \ud558\ub2e4\uac00 start\uc640 stop \uc0ac\uc774\uc5d0 \uc788\ub294 \uc218\ub97c \ud558\ub294 \uac70\ub2c8\uae4c<br>\n",
      "\uc801\ub2f9\ud558\uac8c \ubc29\ud5a5\uc744 \ubc14\uafd4 \uc8fc\uba74 \ub420 \uac70\ub77c\ub294 \uc0dd\uac01\uc73c\ub85c \uc81c\uc77c \uc704 \ubd80\ubd84\uc758 swap \uad6c\ubb38 \ud615\ud0dc\ub97c \ub123\uc5b4 \ubd24\uc2b5\ub2c8\ub2e4. <br>\n",
      "python\uc758 \ub3d9\uc2dc \ub300\uc785 \uae30\ub2a5 \uc5f0\uc2b5\ud558\ub294 \uacb8\uc0ac \uacb8\uc0ac.<br>\n",
      "\uc218\uc5d0 \ub530\ub77c\uc11c \uc2dc\ud0a8 \ub300\ub85c \ud569\ub2c8\ub2e4. \uae30\uc874 range\ucc98\ub7fc \uc815\ud574\uc9c4 stop\uc758 \uac12 \ucabd\uc5d0 \ub4f1\ud638\ub294 \uc5c6\uc2b5\ub2c8\ub2e4."
     ]
    },
    {
     "cell_type": "markdown",
     "metadata": {},
     "source": [
      "#####4. sum using *arg"
     ]
    },
    {
     "cell_type": "code",
     "collapsed": false,
     "input": [
      "#this one is very, very simple.\n",
      "    #I just used sum() builtin function with *arg expr.\n",
      "def Sum(*arg):\n",
      "    return sum(arg)\n",
      "\n",
      "print Sum(10, 2.2, 0, 3, -1, -37.2, 1-2j)\n",
      "#sample for postive, negative, 0, integer or Real numbers, even Imagine number.\n",
      "    #I got notice 'Assuming that input list is always consist of numbers.'\n"
     ],
     "language": "python",
     "metadata": {},
     "outputs": [
      {
       "output_type": "stream",
       "stream": "stdout",
       "text": [
        "(-22+2j)\n"
       ]
      }
     ],
     "prompt_number": 21
    },
    {
     "cell_type": "markdown",
     "metadata": {},
     "source": [
      "\uadf8\ub2e4\uc9c0 \uc5b4\ub835\uc9c0 \uc54a\uc558\ub2e4\uace0 \ud560\uae4c\uc694, \uadf8\ub0e5 sum builtin \ud568\uc218\ub97c \uc37c\uc2b5\ub2c8\ub2e4. <br>\n",
      "\uadf8\ub9ac\uace0 \ubc11\uc5d0 \uc8fc\uc11d\uc73c\ub85c\ub3c4 \ub2ec\uc544\ub1a8\uc9c0\ub9cc, python \ub0b4\uc5d0\uc11c \uc9c0\uc6d0\ud558\ub294 \uc218 \ud0c0\uc785\ub4e4\uc744 \ub2e4\uc591\ud558\uac8c \uc368 \ubd24\uc2b5\ub2c8\ub2e4.<br>\n",
      "\uadf8\ub9ac\uace0 \uc218 \uc678\uc5d0 \ub2e4\ub978 \uac74 \ub4e4\uc5b4\uc624\uc9c0 \uc54a\ub294\ub2e4\uace0 \uac00\uc815\ud558\ub77c\ub294 \uad50\uc218\ub2d8\uc758 \ub9d0\uc500\uc774 \uc788\uc5b4\uc11c \uadf8\ub0e5 sum\uc744 \uc37c\uc2b5\ub2c8\ub2e4.<br>\n",
      "\uc870\uae08 \ubc18\uce59\uac19\uc9c0\ub9cc \uae30\uc874\uc5d0 \uc788\ub358 \uac78 \uc798 \ud65c\uc6a9\ud558\ub294 \uac83 \uc5ed\uc2dc \ub2a5\ub825\uc774\ub77c\uace0 \uc0dd\uac01\ud558\uae30\uc5d0.<br>"
     ]
    },
    {
     "cell_type": "markdown",
     "metadata": {},
     "source": [
      "#####5. myinitial"
     ]
    },
    {
     "cell_type": "code",
     "collapsed": false,
     "input": [
      "def Head(word):\n",
      "    return word[0].upper()\n",
      "#this function return some String's Head as its upper form.\n",
      "\n",
      "def myinitial(String):\n",
      "    SS = String.split() #SS is split list from String\n",
      "    HS = map(Head,SS)       #HS is Head list of String\n",
      "    print \"\".join(HS)           #finally, they become new String\n",
      "\n",
      "myinitial(\"agb bdb raaa ADs, cdhdd AAEE deefg ajgjf blah ruhaa aaa\")\n",
      "\n"
     ],
     "language": "python",
     "metadata": {},
     "outputs": [
      {
       "output_type": "stream",
       "stream": "stdout",
       "text": [
        "ABRACADABRA\n"
       ]
      }
     ],
     "prompt_number": 22
    },
    {
     "cell_type": "markdown",
     "metadata": {},
     "source": [
      "3\uac00\uc9c0 \ud568\uc218\ub97c \ubaa8\ub450 \uc368\uc57c \ud55c\ub2e4\ub294 \uc870\uac74\uc5d0 \uc870\uae08 \ub09c\uac10\ud574 \ud558\ub2e4\uac00, <br>\n",
      "\ub2e8\uc5b4\uc758 \uccab \uae00\uc790\ub97c \ubc1b\uc544\uc640\uc11c \ub300\ubb38\uc790\ub85c \ub9cc\ub4e4\uc5b4 \ub4e4\uace0 \uc624\ub294 \ud568\uc218\ub97c \ub9cc\ub4e4\uace0, split\uc73c\ub85c \ucabc\uac20 \uac01 \ubd80\ubd84\uc5d0 \uc801\uc6a9,<br>\n",
      "\ub9c8\ubb34\ub9ac\ub85c join\uc744 \ud1b5\ud574 \ud569\uce58\ub294 \ud615\ud0dc\ub85c \ub9cc\ub4e4\uc5c8\uc2b5\ub2c8\ub2e4.<br>\n",
      "\uc5ec\ub2f4\uc73c\ub85c \uc774\uc655 \ud558\ub294 \uae40\uc5d0 \uc7a5\ub09c\uae30\uac00 \ub4e4\uc5b4\uc11c \uc544\ube0c\ub77c\uce74\ub2e4\ube0c\ub77c, \ub97c \ub123\uc5b4 \ubd24\uc2b5\ub2c8\ub2e4. "
     ]
    },
    {
     "cell_type": "markdown",
     "metadata": {},
     "source": [
      "#####6. myfact"
     ]
    },
    {
     "cell_type": "code",
     "collapsed": false,
     "input": [
      "def myfact(n):\n",
      "    if n < 0:\n",
      "        print \"Please Input postive or 0\"\n",
      "    elif n <= 1:\n",
      "        return 1\n",
      "    else:\n",
      "        return n * myfact(n-1)\n",
      "\n",
      "print myfact(0)\n",
      "print\n",
      "print myfact(-1)\n",
      "print\n",
      "print myfact(5)"
     ],
     "language": "python",
     "metadata": {},
     "outputs": [
      {
       "output_type": "stream",
       "stream": "stdout",
       "text": [
        "1\n",
        "\n",
        "Please Input postive or 0\n",
        "None\n",
        "\n",
        "120\n"
       ]
      }
     ],
     "prompt_number": 25
    },
    {
     "cell_type": "markdown",
     "metadata": {},
     "source": [
      "1 \ub610\ub294 0\uc758 \uac12\uc740 1, \ub098\uba38\uc9c0\ub294 \uadf8 \uc544\ub798 \uacf1\ud558\uae30 \uc790\uc2e0\uc758 \uac12\uc744 \ub9ac\ud134\ud574 factorial\uc744 \uad6c\ud604\ud569\ub2c8\ub2e4.<br>\n",
      "0, \uc74c\uc218, \uc591\uc218 3\uac00\uc9c0 \uacbd\uc6b0\uc5d0 \ub300\ud574 \ud14c\uc2a4\ud2b8\ud574 \ubd24\uc2b5\ub2c8\ub2e4.<br>"
     ]
    },
    {
     "cell_type": "markdown",
     "metadata": {},
     "source": [
      "#####7. from @@ import * vs import @@\n",
      "\n",
      "\uc804\uc790\uc758 \ubc29\uc2dd\uc740 @@ \uc774\ub984 \uacf5\uac04\uc5d0 \uc788\ub294 \ub0b4\ubd80 \uc694\uc18c\ub4e4\uc744 \ub370\ub824\uc624\ub294 \uac70\uace0, <br>\n",
      "\ud6c4\uc790\uc758 \ubc29\uc2dd\uc740 @@ \uc774\ub984 \uacf5\uac04\uc5d0 \uc788\ub294 \uac83\uc744 \ud1b5\uc9f8\ub85c \ub370\ub824\uc624\ub294 \uac81\ub2c8\ub2e4. <br>\n",
      "\uadf8\ub798\uc11c \uc0dd\uae30\ub294 \ucc28\uc774\uc810\uc73c\ub85c\ub294 \uac00\ube44\uc9c0 \uceec\ub809\ud130\uac00 \uc804\uc790\ub294 \ub0b4\ubd80 \uc694\uc18c\ubcc4\ub85c \uccb4\ud06c\ub97c, \ud6c4\uc790\ub294 @@\ub97c \ud1b5\uc9f8\ub85c \ubd05\ub2c8\ub2e4.<br>\n",
      "\uadf8\ub7ec\ub2e4 \ubcf4\ub2c8 \uc804\uc790\ub294 \uc870\uae08\ub9cc \uc0ac\uc6a9\ub420 \uae30\ubbf8\uac00 \uc548 \ubcf4\uc5ec\ub3c4 \uce58\uc6cc\uc11c \ubb38\uc81c\uac00 \uc0dd\uae30\uc9c0\uc694.<br>\n",
      "\uc804\uc790\uc758 \uacbd\uc6b0\ub294 \uac01 \uc694\uc18c\ub97c \uc4f0\ub294 \uac83\uc774\uace0, \ud6c4\uc790\uc758 \uacbd\uc6b0\ub294 \uc774\ub984 \uacf5\uac04\uc758 \uc704\uc5d0\uc11c \ubcf4\uc544 \ub370\ub824\uc624\ub294 \uac83\uc774\ub2c8 \uc0ac\uc6a9\ubc29\ubc95\uc0c1\uc758 \ucc28\uc774\uc810\uc774\uc57c \ub2f9\uc5f0\ud788 \uc0dd\uae30\ub294 \uac83\uc785\ub2c8\ub2e4."
     ]
    }
   ],
   "metadata": {}
  }
 ]
}
