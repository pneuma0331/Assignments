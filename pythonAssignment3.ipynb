{
 "metadata": {
  "name": "pythonAssignment3"
 },
 "nbformat": 3,
 "nbformat_minor": 0,
 "worksheets": [
  {
   "cells": [
    {
     "cell_type": "code",
     "collapsed": false,
     "input": "L = [1,2,3,4,5]\nprint '1)'\nL[1:3] = [100]\nprint L\n#2-3\ubc88\uc9f8 \uc6d0\uc18c\uc778 2,3\uc744 100\uc73c\ub85c \ubc14\uafc8 \n\nprint '2)'\nL[1:3] = [(100)]\nprint L\n#\uc774\ubbf8 L\uc774 \uc704\uc758 \uacb0\uacfc\ucc98\ub7fc \ubc14\ub00c\uc5b4 \uc788\uae30 \ub54c\ubb38\uc5d0, 2-3\ubc88\uc9f8 \uc6d0\uc18c\ub97c 100\uc73c\ub85c \ubc14\uafbc \uacb0\uacfc\ub294 \uc800\ub807\uac8c \ub098\uc634\n\n\n\n\nprint '3)'\nL[1:3] = 100\nprint L\n#\uc624\ub958 \ubc1c\uc0dd, \ud504\ub9ac\ubbf8\ud2f0\ube0c \ud0c0\uc785\uc744 \uc911\uac04\uc5d0 \uc0bd\uc785\ud560 \uc218 \uc5c6\uc74c\n\n",
     "language": "python",
     "metadata": {},
     "outputs": [
      {
       "ename": "TypeError",
       "evalue": "can only assign an iterable",
       "output_type": "pyerr",
       "traceback": [
        "\u001b[0;31m---------------------------------------------------------------------------\u001b[0m\n\u001b[0;31mTypeError\u001b[0m                                 Traceback (most recent call last)",
        "\u001b[0;32m<ipython-input-1-eda06c531b9f>\u001b[0m in \u001b[0;36m<module>\u001b[0;34m()\u001b[0m\n\u001b[1;32m     14\u001b[0m \u001b[0;34m\u001b[0m\u001b[0m\n\u001b[1;32m     15\u001b[0m \u001b[0;32mprint\u001b[0m \u001b[0;34m'3)'\u001b[0m\u001b[0;34m\u001b[0m\u001b[0m\n\u001b[0;32m---> 16\u001b[0;31m \u001b[0mL\u001b[0m\u001b[0;34m[\u001b[0m\u001b[0;36m1\u001b[0m\u001b[0;34m:\u001b[0m\u001b[0;36m3\u001b[0m\u001b[0;34m]\u001b[0m \u001b[0;34m=\u001b[0m \u001b[0;36m100\u001b[0m\u001b[0;34m\u001b[0m\u001b[0m\n\u001b[0m\u001b[1;32m     17\u001b[0m \u001b[0;32mprint\u001b[0m \u001b[0mL\u001b[0m\u001b[0;34m\u001b[0m\u001b[0m\n\u001b[1;32m     18\u001b[0m \u001b[0;31m#\uc624\ub958 \ubc1c\uc0dd, \ud504\ub9ac\ubbf8\ud2f0\ube0c \ud0c0\uc785\uc744 \uc911\uac04\uc5d0 \uc0bd\uc785\ud560 \uc218 \uc5c6\uc74c\u001b[0m\u001b[0;34m\u001b[0m\u001b[0;34m\u001b[0m\u001b[0m\n",
        "\u001b[0;31mTypeError\u001b[0m: can only assign an iterable"
       ]
      },
      {
       "output_type": "stream",
       "stream": "stdout",
       "text": "1)\n[1, 100, 4, 5]\n2)\n[1, 100, 5]\n3)\n"
      }
     ],
     "prompt_number": 1
    },
    {
     "cell_type": "code",
     "collapsed": false,
     "input": "print '4)'\nL[1:3] = (100)\nprint L\n#(100)\ub3c4 100\uacfc \uac19\uc740 \ucde8\uae09\uc774\ub77c\uc11c \uc5d0\ub7ec\n\n",
     "language": "python",
     "metadata": {},
     "outputs": [
      {
       "ename": "TypeError",
       "evalue": "can only assign an iterable",
       "output_type": "pyerr",
       "traceback": [
        "\u001b[0;31m---------------------------------------------------------------------------\u001b[0m\n\u001b[0;31mTypeError\u001b[0m                                 Traceback (most recent call last)",
        "\u001b[0;32m<ipython-input-3-4f0f6df6d55b>\u001b[0m in \u001b[0;36m<module>\u001b[0;34m()\u001b[0m\n\u001b[1;32m      1\u001b[0m \u001b[0;32mprint\u001b[0m \u001b[0;34m'4)'\u001b[0m\u001b[0;34m\u001b[0m\u001b[0m\n\u001b[0;32m----> 2\u001b[0;31m \u001b[0mL\u001b[0m\u001b[0;34m[\u001b[0m\u001b[0;36m1\u001b[0m\u001b[0;34m:\u001b[0m\u001b[0;36m3\u001b[0m\u001b[0;34m]\u001b[0m \u001b[0;34m=\u001b[0m \u001b[0;34m(\u001b[0m\u001b[0;36m100\u001b[0m\u001b[0;34m)\u001b[0m\u001b[0;34m\u001b[0m\u001b[0m\n\u001b[0m\u001b[1;32m      3\u001b[0m \u001b[0;32mprint\u001b[0m \u001b[0mL\u001b[0m\u001b[0;34m\u001b[0m\u001b[0m\n\u001b[1;32m      4\u001b[0m \u001b[0;31m#(100)\ub3c4 100\uacfc \uac19\uc740 \ucde8\uae09\uc774\ub77c\uc11c \uc5d0\ub7ec\u001b[0m\u001b[0;34m\u001b[0m\u001b[0;34m\u001b[0m\u001b[0m\n\u001b[1;32m      5\u001b[0m \u001b[0;34m\u001b[0m\u001b[0m\n",
        "\u001b[0;31mTypeError\u001b[0m: can only assign an iterable"
       ]
      },
      {
       "output_type": "stream",
       "stream": "stdout",
       "text": "4)\n"
      }
     ],
     "prompt_number": 3
    },
    {
     "cell_type": "code",
     "collapsed": false,
     "input": "\nprint '5)'\nL[1:3] = (100,101,102)\nprint L\n#100,5 \ub300\uc2e0 \uc704\uc758 \ud29c\ud50c\uc758 \uac12\ub4e4\uc774 \ub4e4\uc5b4\uac10\n\n\nprint '6)'\nL[1:3] = [100,101,102]\nprint L\n#100,101 \ub300\uc2e0 \uc704\uc758 \ub9ac\uc2a4\ud2b8\uc758 \uac12\uc774 \ub4e4\uc5b4\uac10\n\nprint '7)'\nL[1:3] = [(100,101,102)]\nprint L\n#\ud29c\ud50c\uc774 \ud1b5\uc9f8\ub85c 100\u3161101\uc758 \uc790\ub9ac\ub97c \ucc28\uc9c0\ud568\n\nprint '8)'\nL[1:3] = [[100,101,102]]\nprint L\n#\uc704\uc758 \ud29c\ud50c\uacfc \uadf8 \ubc14\ub85c \ub4a4\uc758 102\uc758 \uc790\ub9ac\ub97c \ucc28\uc9c0\ud568",
     "language": "python",
     "metadata": {},
     "outputs": [
      {
       "output_type": "stream",
       "stream": "stdout",
       "text": "5)\n[1, 100, 101, 102]\n6)\n[1, 100, 101, 102, 102]\n7)\n[1, (100, 101, 102), 102, 102]\n8)\n[1, [100, 101, 102], 102]\n"
      }
     ],
     "prompt_number": 4
    },
    {
     "cell_type": "code",
     "collapsed": false,
     "input": "S = 'Hello World and Python'\nprint '1)'\nSS = S.split()\nSS.reverse()\nSR = \" \".join(SS)\nprint SR\nprint \"\".join(SR.split())",
     "language": "python",
     "metadata": {},
     "outputs": [
      {
       "output_type": "stream",
       "stream": "stdout",
       "text": "1)\nPython and World Hello\nPythonandWorldHello\n"
      }
     ],
     "prompt_number": 5
    },
    {
     "cell_type": "markdown",
     "metadata": {},
     "source": "\uc77c\ub2e8 \ucabc\uac1c\uc11c \ub9ac\uc2a4\ud2b8\uc5d0 \ub123\uc740 \ub2e4\uc74c \uadf8 \ub9ac\uc2a4\ud2b8\ub97c \ub4a4\uc9d1\uace0, \uacf5\ubc31\uc744 \uc911\uac04\uc5d0 \ub123\uc5b4 \ud569\uce5c \ub4a4 \ucd9c\ub825\ud55c \uac83\uc774 \uc704\uc758 \uacb0\uacfc\uc785\ub2c8\ub2e4.\n\uc544\ub798\ub294 \uadf8 \uc0ac\uc774 \uc0ac\uc774\uc758 \ud2c8\uc5d0 \uc544\ubb34 \uac83\ub3c4 \uc548 \ub123\uaca0\ub2e4\uace0 \ud574\uc11c \ub9cc\ub4e0 \uacb0\uacfc\uc785\ub2c8\ub2e4."
    },
    {
     "cell_type": "code",
     "collapsed": false,
     "input": "s = '  first star   :   second star   :    third star  '\nss = s.split(\":\")\n\nfor i in range(3):\n    ss[i] = ss[i].strip()\n\nprint ss",
     "language": "python",
     "metadata": {},
     "outputs": [
      {
       "output_type": "stream",
       "stream": "stdout",
       "text": "['first star', 'second star', 'third star']\n"
      }
     ],
     "prompt_number": 6
    },
    {
     "cell_type": "markdown",
     "metadata": {},
     "source": "\uc77c\ub2e8 ':'\uc744 \uae30\uc900\uc73c\ub85c \ucabc\uac1c\uace0 \ubd24\uc2b5\ub2c8\ub2e4. \uadf8\ub9ac\uace0 \ub098\uc11c\ub294 for \ubb38 \uc548\uc5d0\uc11c strip \ud568\uc218\ub97c \uc2e4\ud589\uc2dc\ud0a8 \uac83\uc73c\ub85c \uad50\uccb4\ud558\ub294 \uc791\uc5c5\uc744 \uc218\ud589\ud588\uc2b5\ub2c8\ub2e4."
    },
    {
     "cell_type": "code",
     "collapsed": false,
     "input": "s = '  first star   :   second star   :    third star  '\nss = s.split(\":\")\n\nrslt = [things.strip() for things in ss ]\n    \nprint rslt",
     "language": "python",
     "metadata": {},
     "outputs": [
      {
       "output_type": "stream",
       "stream": "stdout",
       "text": "['first star', 'second star', 'third star']\n"
      }
     ],
     "prompt_number": 7
    },
    {
     "cell_type": "markdown",
     "metadata": {},
     "source": "\uc704\uc758 \uac83\uacfc \uc720\uc0ac\ud569\ub2c8\ub2e4\ub9cc \ub9ac\uc2a4\ud2b8 \ub0b4\ud3ec\ub97c \ud1b5\ud574\uc11c \uacb0\uacfc \ub9ac\uc2a4\ud2b8\ub97c \ub9cc\ub4e0 \ud6c4, \uadf8 \ub9ac\uc2a4\ud2b8\ub97c \ucd9c\ub825\ud558\ub294 \ubc29\uc2dd\uc744 \ucde8\ud558\uace0 \uc788\uc2b5\ub2c8\ub2e4."
    },
    {
     "cell_type": "code",
     "collapsed": false,
     "input": "a = [1, 2, 3]\nb = a * 3\nc = [a] * 3\nprint b\nprint c\n\na[0] = 0\nprint b\nprint c",
     "language": "python",
     "metadata": {},
     "outputs": [
      {
       "output_type": "stream",
       "stream": "stdout",
       "text": "[1, 2, 3, 1, 2, 3, 1, 2, 3]\n[[1, 2, 3], [1, 2, 3], [1, 2, 3]]\n[1, 2, 3, 1, 2, 3, 1, 2, 3]\n[[0, 2, 3], [0, 2, 3], [0, 2, 3]]\n"
      }
     ],
     "prompt_number": 8
    },
    {
     "cell_type": "markdown",
     "metadata": {},
     "source": "\ubcc0\uc218\uc758 \uac12\uc744 \ub2e4\ub978 \uac12\uc5d0 \ud560\ub2f9\ud560 \ub54c\ub294 \ub450 \uac00\uc9c0 \uc815\ubcf4\uac00 \ud568\uaed8 \uc804\ub2ec\uc774 \ub429\ub2c8\ub2e4. \uadf8 \ub0b4\uc6a9\uc5d0 \ub300\ud55c \uc815\ubcf4\uc640 \ud615\uc2dd\uc801\uc778 \uc815\ubcf4\uac00 \uadf8 \ub450\uac00\uc9c0\uc785\ub2c8\ub2e4.<br>\nb\uc758 \uacbd\uc6b0 \ub9ac\uc2a4\ud2b8\ub77c\ub294 \ud615\uc2dd\uc801\uc778 \uc815\ubcf4\uc640, a\uc548\uc5d0 \uc788\ub294 \uc815\ubcf4\ub97c 3\ubc88 \ubc18\ubcf5\ud55c \ub0b4\uc6a9\uc801\uc778 \uc815\ubcf4\uac00 \uc804\ub2ec\ub418\uc5b4 \ud558\ub098\uc758 \ub9ac\uc2a4\ud2b8 \uc548\uc5d0 a\uc758 \ub0b4\uc6a9\uc774 3\ubc88 \ubc18\ubcf5\ub418\ub294 \ud615\ud0dc\ub85c \ub2f4\uacbc\uc2b5\ub2c8\ub2e4.<br>\nb\ub294 \ub0b4\uc6a9\uc758 \uc804\ub2ec\uc744 \ubc1b\uc744 \ub54c a\uc5d0 \uc5f0\uacb0\ub41c 3\uac1c\uc758 \uac12\uc5d0 \ub300\ud55c \ub0b4\uc6a9\uc744 \uc9c1\uc811 \ubc1b\uc544\uc11c \ud615\ud0dc\uc0c1 deepcopy\uc785\ub2c8\ub2e4. <br><br>\nc\uc758 \uacbd\uc6b0 a\uc758 \ub0b4\uc6a9\uc744 \ub9ac\uc2a4\ud2b8 \uc548\uc5d0 \ud55c \ubc88 \ub2f4\uc544\uc11c \uc804\ub2ec\ud558\uace0 \uc788\uae30 \ub54c\ubb38\uc5d0, [a]\ub77c\ub294 \ub0b4\uc6a9\uc0c1 \uc815\ubcf4\uac00 \ub9ac\uc2a4\ud2b8\uc5d0 \ub2f4\uae30\uac8c \ub418\ub294 \uac83\uc785\ub2c8\ub2e4. <br>\nc\ub294 \uc774\uc640\ub294 \ubc18\ub300\ub85c, [a]\uc758 \ud615\ud0dc\ub85c a\uc758 \ub808\ud37c\ub7f0\uc2a4\ub97c \uadf8\ub300\ub85c \uac00\uc838\uc624\ub294 \ud615\ud0dc\ub97c \uac00\uc9c0\uae30 \ub54c\ubb38\uc5d0, a\uc758 \uae30\uc900\uc73c\ub85c\ub294 shallow copy\uac00 \ub418\uc5b4 \uac12\uc758 \ubcc0\uacbd\uc2dc \ub611\uac19\uc774 \ub530\ub77c\uac11\ub2c8\ub2e4.<br>\n*\uc801\ub2f9\ud788 \ud504\ub85c\uadf8\ub798\ubc0d \uc5b8\uc5b4\ub860 \ucc45\uc758 \ub0b4\uc6a9\uc744 \ucc38\uace0\ud558\uc5ec \uc791\uc131\ud588\uc2b5\ub2c8\ub2e4.*"
    },
    {
     "cell_type": "code",
     "collapsed": false,
     "input": "def addall(numbers):\n    rslt = 0\n    for thing in numbers:\n        if type(thing) == type(0):\n            rslt = rslt + thing\n    return rslt\n\ndef addallodd(numbers):\n    rslt = 0\n    for thing in numbers:\n        if type(thing) == type(0):\n            if(thing %2 == 1):\n                rslt = rslt + thing\n    return rslt\n\nprint addall([1,2,3,'adadasd',1.1,'33'])\nprint addallodd([1,2,3,4,'erfwsddg','11',1.1])",
     "language": "python",
     "metadata": {},
     "outputs": [
      {
       "output_type": "stream",
       "stream": "stdout",
       "text": "6\n4\n"
      }
     ],
     "prompt_number": 11
    },
    {
     "cell_type": "markdown",
     "metadata": {},
     "source": "\ub9ac\uc2a4\ud2b8 \ub0b4\ud3ec\ub97c \uc0ac\uc6a9\ud558\uc9c0 \uc54a\uace0 \ub2e8\uc21c\ud558\uac8c for \uad6c\ubb38\uc744 \uc0ac\uc6a9\ud558\ub294 \uacbd\uc6b0\uc785\ub2c8\ub2e4. \uc815\ub9d0\ub85c \ub2e8\uc21c\ud558\uac8c \ubb38\uc81c\uc758 \uc870\uac74\uc778 \uc815\uc218/\ud640\uc218\ub9cc \uac12\uc744 \ub354\ud55c \ub2e4\uc74c\uc5d0 \ub9ac\ud134\ud558\ub3c4\ub85d \ud588\uc2b5\ub2c8\ub2e4."
    },
    {
     "cell_type": "code",
     "collapsed": false,
     "input": "def addall(numbers):\n    return sum([num for num in numbers if type(num) == type(0)])\n\ndef addallodd(numbers):\n    return sum([num for num in numbers if (type(num) == type(0) and (num %2 == 1))])\n\nprint addall([1,2,3,4.0,'aa','11'])\nprint addallodd([1,2,3,'13242','python',1.1])",
     "language": "python",
     "metadata": {},
     "outputs": [
      {
       "output_type": "stream",
       "stream": "stdout",
       "text": "6\n4\n"
      }
     ],
     "prompt_number": 16
    },
    {
     "cell_type": "markdown",
     "metadata": {},
     "source": "\ub9ac\uc2a4\ud2b8 \ub0b4\ud3ec\ub97c \uc0ac\uc6a9\ud558\ub294 \uacbd\uc6b0\uc785\ub2c8\ub2e4. \uc9c0\uc2dc\ud558\uc2e0 \ub300\ub85c \ud55c \uc904\ub85c \ub05d\ub0b4 \ubd24\uc2b5\ub2c8\ub2e4.\n...\uc194\uc9c1\ud55c \uac10\uc815\uc740 \ucc28\ud6c4 \uac10\uc0c1 \ubd80\ubd84\uc5d0 \uc368 \ub450\uaca0\uc2b5\ub2c8\ub2e4."
    },
    {
     "cell_type": "code",
     "collapsed": false,
     "input": "L1 = [1, 2, 3]\nL2 = [4, 5, 6]\nd = {'low':L1, 'high':L2}\ne = d\nf = d.copy()\nprint d\nprint e\nprint f\nprint\nd['low'] = [10, 20, 30]\nd['high'][1] = 500\nprint d\nprint e\nprint f\n",
     "language": "python",
     "metadata": {},
     "outputs": [
      {
       "output_type": "stream",
       "stream": "stdout",
       "text": "{'high': [4, 5, 6], 'low': [1, 2, 3]}\n{'high': [4, 5, 6], 'low': [1, 2, 3]}\n{'high': [4, 5, 6], 'low': [1, 2, 3]}\n\n{'high': [4, 500, 6], 'low': [10, 20, 30]}\n{'high': [4, 500, 6], 'low': [10, 20, 30]}\n{'high': [4, 500, 6], 'low': [1, 2, 3]}\n"
      }
     ],
     "prompt_number": 17
    },
    {
     "cell_type": "markdown",
     "metadata": {},
     "source": "\uc774\uac8c \ub2e4 \ub808\ud37c\ub7f0\uc2a4 \ubc29\uc2dd\uc774 \uac00\uc838 \uc624\ub294 \ubcf5\uc0ac\uc758 \uba54\ucee4\ub2c8\uc998 \ud0d3\uc785\ub2c8\ub2e4.<br> e\uc758 \uc120\uc5b8 \ubc29\uc2dd\uc73c\ub85c \ud558\uba74 \uc544\uc608 \uac19\uc740 \ub300\uc0c1\uc744 \uc9c0\uba85\ud558\ub294 \ub808\ud37c\ub7f0\uc2a4\ub97c \ub9cc\ub4dc\ub294 \uc148\uc774\uace0, f\uc758 \ubc29\uc2dd\uc740 key\ub294 \uac00\uc838 \uc624\uc9c0\ub9cc Value\ub294 \uadf8 \uc9c0\uce6d \ub300\uc0c1\uc744 \ud655\uc778\ud574\uc11c \uac00\uc838 \uc635\ub2c8\ub2e4.<br> \uadf8\ub7ec\ub2c8\uae4c d\uc758 \ub0b4\uc6a9 \uc790\uccb4\ub97c \ubc14\uafb8\ub294 \uc704\uc758 d['low']\uc758 \uacbd\uc6b0\ub294 e\ub9cc \ubcc0\ud654\ud558\uac8c \ub418\uace0, <br>\uadf8 \ub808\ud37c\ub7f0\uc2a4\ub97c \uc9c1\uc811 \ub2e4\ub8e8\ub294 \uc544\ub798\uc758 d['high'][1]\uc758 \uacbd\uc6b0\ub294 \uadf8\ub807\uac8c \ub418\uc9c0 \uc54a\ub294 \uac70\uc9c0\uc694."
    },
    {
     "cell_type": "code",
     "collapsed": false,
     "input": "d = {'one':1, 'two':2, 'three':3, 'four':4, 'five':5}\nprint d\ndi = d.items()\n\ndi.sort(cmp = None, reverse = False, key = lambda tmp : tmp[0])\nprint di\ndi.sort(cmp = None, reverse = True, key = lambda tmp : tmp[0])\nprint di\n\ndi.sort(cmp = None, reverse = False, key = lambda tmp : tmp[1])\nprint di\ndi.sort(cmp = None, reverse = True, key = lambda tmp : tmp[1])\nprint di",
     "language": "python",
     "metadata": {},
     "outputs": [
      {
       "output_type": "stream",
       "stream": "stdout",
       "text": "{'four': 4, 'three': 3, 'five': 5, 'two': 2, 'one': 1}\n[('five', 5), ('four', 4), ('one', 1), ('three', 3), ('two', 2)]\n[('two', 2), ('three', 3), ('one', 1), ('four', 4), ('five', 5)]\n[('one', 1), ('two', 2), ('three', 3), ('four', 4), ('five', 5)]\n[('five', 5), ('four', 4), ('three', 3), ('two', 2), ('one', 1)]\n"
      }
     ],
     "prompt_number": 26
    },
    {
     "cell_type": "markdown",
     "metadata": {},
     "source": "\uc624\ub984\ucc28\uc21c\uacfc \ub0b4\ub9bc\ucc28\uc21c\uc5d0 \ub300\ud574\uc120 reverse \uc778\uc790\ub97c, \uc5b4\ub290 \uac83\uc744 \uae30\uc900\uc73c\ub85c \ud558\ub290\ub0d0\uc5d0 \ub530\ub77c\uc120 key \uc778\uc790\ub97c \uac74\ub4dc\ub838\uc2b5\ub2c8\ub2e4."
    },
    {
     "cell_type": "code",
     "collapsed": false,
     "input": "",
     "language": "python",
     "metadata": {},
     "outputs": []
    }
   ],
   "metadata": {}
  }
 ]
}